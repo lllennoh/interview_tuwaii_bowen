{
 "cells": [
  {
   "cell_type": "code",
   "execution_count": 7,
   "id": "9e9de123-737d-47fa-875d-7482ff98c81f",
   "metadata": {},
   "outputs": [],
   "source": [
    "import pandas as pd\n"
   ]
  },
  {
   "cell_type": "code",
   "execution_count": 20,
   "id": "52a737ba-2684-476b-91af-bf425e4b6d98",
   "metadata": {},
   "outputs": [
    {
     "data": {
      "text/html": [
       "<div>\n",
       "<style scoped>\n",
       "    .dataframe tbody tr th:only-of-type {\n",
       "        vertical-align: middle;\n",
       "    }\n",
       "\n",
       "    .dataframe tbody tr th {\n",
       "        vertical-align: top;\n",
       "    }\n",
       "\n",
       "    .dataframe thead th {\n",
       "        text-align: right;\n",
       "    }\n",
       "</style>\n",
       "<table border=\"1\" class=\"dataframe\">\n",
       "  <thead>\n",
       "    <tr style=\"text-align: right;\">\n",
       "      <th></th>\n",
       "      <th>appid</th>\n",
       "      <th>date</th>\n",
       "      <th>ctwid</th>\n",
       "      <th>server_id</th>\n",
       "      <th>time</th>\n",
       "      <th>pay_amt</th>\n",
       "    </tr>\n",
       "  </thead>\n",
       "  <tbody>\n",
       "    <tr>\n",
       "      <th>0</th>\n",
       "      <td>test</td>\n",
       "      <td>2024-11-13</td>\n",
       "      <td>23dccf736f</td>\n",
       "      <td>2</td>\n",
       "      <td>1731509951124</td>\n",
       "      <td>100</td>\n",
       "    </tr>\n",
       "    <tr>\n",
       "      <th>1</th>\n",
       "      <td>test</td>\n",
       "      <td>2024-11-13</td>\n",
       "      <td>2cac52ff60</td>\n",
       "      <td>3</td>\n",
       "      <td>1731509996850</td>\n",
       "      <td>100</td>\n",
       "    </tr>\n",
       "    <tr>\n",
       "      <th>2</th>\n",
       "      <td>test</td>\n",
       "      <td>2024-11-13</td>\n",
       "      <td>af687842ae</td>\n",
       "      <td>43</td>\n",
       "      <td>1731509995400</td>\n",
       "      <td>100</td>\n",
       "    </tr>\n",
       "    <tr>\n",
       "      <th>3</th>\n",
       "      <td>test</td>\n",
       "      <td>2024-11-14</td>\n",
       "      <td>44f3cee987</td>\n",
       "      <td>43</td>\n",
       "      <td>1731510028964</td>\n",
       "      <td>1</td>\n",
       "    </tr>\n",
       "    <tr>\n",
       "      <th>4</th>\n",
       "      <td>test</td>\n",
       "      <td>2024-11-14</td>\n",
       "      <td>01c6034980</td>\n",
       "      <td>9</td>\n",
       "      <td>1731510053112</td>\n",
       "      <td>79</td>\n",
       "    </tr>\n",
       "  </tbody>\n",
       "</table>\n",
       "</div>"
      ],
      "text/plain": [
       "  appid        date       ctwid  server_id           time  pay_amt\n",
       "0  test  2024-11-13  23dccf736f          2  1731509951124      100\n",
       "1  test  2024-11-13  2cac52ff60          3  1731509996850      100\n",
       "2  test  2024-11-13  af687842ae         43  1731509995400      100\n",
       "3  test  2024-11-14  44f3cee987         43  1731510028964        1\n",
       "4  test  2024-11-14  01c6034980          9  1731510053112       79"
      ]
     },
     "execution_count": 20,
     "metadata": {},
     "output_type": "execute_result"
    }
   ],
   "source": [
    "def read_csv_file(file_path):\n",
    "    try:\n",
    "        data = pd.read_csv(file_path)\n",
    "        return data\n",
    "    except Exception as e:\n",
    "        return none\n",
    "\n",
    "file_paths = [\"user_payment_record.csv\", \"createrole_login_record.csv\", \"user_daily_session_length_record.csv\"] \n",
    "df_payment = read_csv_file(file_paths[0])\n",
    "df_login = read_csv_file(file_paths[1])\n",
    "df_engagement = read_csv_file(file_paths[2])"
   ]
  },
  {
   "cell_type": "code",
   "execution_count": 38,
   "id": "57a100e3-6cd1-4cc7-a66f-79263c82d62c",
   "metadata": {},
   "outputs": [
    {
     "data": {
      "text/plain": [
       "'createrole_login_record.csv'"
      ]
     },
     "execution_count": 38,
     "metadata": {},
     "output_type": "execute_result"
    }
   ],
   "source": []
  }
 ],
 "metadata": {
  "kernelspec": {
   "display_name": "Python [conda env:base] *",
   "language": "python",
   "name": "conda-base-py"
  },
  "language_info": {
   "codemirror_mode": {
    "name": "ipython",
    "version": 3
   },
   "file_extension": ".py",
   "mimetype": "text/x-python",
   "name": "python",
   "nbconvert_exporter": "python",
   "pygments_lexer": "ipython3",
   "version": "3.12.7"
  }
 },
 "nbformat": 4,
 "nbformat_minor": 5
}
